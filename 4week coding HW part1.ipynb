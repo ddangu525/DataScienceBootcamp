{
 "cells": [
  {
   "cell_type": "markdown",
   "metadata": {},
   "source": [
    "# Coding HW Part 1"
   ]
  },
  {
   "cell_type": "code",
   "execution_count": 118,
   "metadata": {},
   "outputs": [],
   "source": [
    "import numpy as np\n",
    "import matplotlib.pyplot as plt\n",
    "from mpl_toolkits.mplot3d import Axes3D\n",
    "import pandas as pd\n",
    "\n",
    "from sklearn.naive_bayes import GaussianNB\n",
    "from sklearn.linear_model import LogisticRegression\n",
    "from sklearn.discriminant_analysis import LinearDiscriminantAnalysis\n",
    "from sklearn.discriminant_analysis import QuadraticDiscriminantAnalysis\n",
    "from sklearn.model_selection import train_test_split\n",
    "from sklearn.metrics import mean_squared_error\n",
    "from sklearn.metrics import precision_score, recall_score\n",
    "from sklearn.metrics import confusion_matrix\n",
    "from sklearn.model_selection import cross_val_score"
   ]
  },
  {
   "cell_type": "code",
   "execution_count": 2,
   "metadata": {
    "collapsed": true
   },
   "outputs": [],
   "source": [
    "%matplotlib inline"
   ]
  },
  {
   "cell_type": "markdown",
   "metadata": {},
   "source": [
    "# 데이터 구성\n",
    "1. 각각의 축마다 np.random.normal을 이용하여 2차원, 3차원, 4차원데이터 생성.\n",
    "2. 두 개의 data type 중 첫번째 data set은 평균을 모두 0, 두번째 data set은 평균을 5에서 줄여가며 점점 겹쳐지도록 구성."
   ]
  },
  {
   "cell_type": "code",
   "execution_count": 87,
   "metadata": {
    "collapsed": true
   },
   "outputs": [],
   "source": [
    "a = list(zip(np.random.normal(0,1,1000), np.random.normal(0,1,1000), np.random.normal(0,1,1000), np.random.normal(0,1,1000), [1 for _ in range(1000)]))\n",
    "b1 = list(zip(np.random.normal(5, 1, 1000), np.random.normal(5, 1, 1000), np.random.normal(5, 1, 1000), np.random.normal(5, 1, 1000), [0 for _ in range(1000)]))\n",
    "b2 = list(zip(np.random.normal(4, 1, 1000), np.random.normal(4, 1, 1000), np.random.normal(4, 1, 1000), np.random.normal(4, 1, 1000), [0 for _ in range(1000)]))\n",
    "b3 = list(zip(np.random.normal(3, 1, 1000), np.random.normal(3, 1, 1000), np.random.normal(3, 1, 1000), np.random.normal(3, 1, 1000), [0 for _ in range(1000)]))\n",
    "b4 = list(zip(np.random.normal(2, 1, 1000), np.random.normal(2, 1, 1000), np.random.normal(2, 1, 1000), np.random.normal(2, 1, 1000), [0 for _ in range(1000)]))\n",
    "b5 = list(zip(np.random.normal(1, 1, 1000), np.random.normal(1, 1, 1000), np.random.normal(1, 1, 1000), np.random.normal(1, 1, 1000), [0 for _ in range(1000)]))"
   ]
  },
  {
   "cell_type": "code",
   "execution_count": 90,
   "metadata": {},
   "outputs": [],
   "source": [
    "df_a = pd.DataFrame(a)\n",
    "\n",
    "df_b1 = pd.DataFrame(b1)\n",
    "df_b2 = pd.DataFrame(b2)\n",
    "df_b3 = pd.DataFrame(b3)\n",
    "df_b4 = pd.DataFrame(b4)\n",
    "df_b5 = pd.DataFrame(b5)\n",
    "\n",
    "df1 = pd.concat([df_a,df_b1])\n",
    "df2 = pd.concat([df_a,df_b2])\n",
    "df3 = pd.concat([df_a,df_b3])\n",
    "df4 = pd.concat([df_a,df_b4])\n",
    "df5 = pd.concat([df_a,df_b5])\n",
    "\n",
    "df1.columns = ['x1', 'x2', 'x3', 'x4', 'type']\n",
    "df2.columns = ['x1', 'x2', 'x3', 'x4', 'type']\n",
    "df3.columns = ['x1', 'x2', 'x3', 'x4', 'type']\n",
    "df4.columns = ['x1', 'x2', 'x3', 'x4', 'type']\n",
    "df5.columns = ['x1', 'x2', 'x3', 'x4', 'type']"
   ]
  },
  {
   "cell_type": "code",
   "execution_count": 92,
   "metadata": {},
   "outputs": [
    {
     "data": {
      "text/html": [
       "<div>\n",
       "<style>\n",
       "    .dataframe thead tr:only-child th {\n",
       "        text-align: right;\n",
       "    }\n",
       "\n",
       "    .dataframe thead th {\n",
       "        text-align: left;\n",
       "    }\n",
       "\n",
       "    .dataframe tbody tr th {\n",
       "        vertical-align: top;\n",
       "    }\n",
       "</style>\n",
       "<table border=\"1\" class=\"dataframe\">\n",
       "  <thead>\n",
       "    <tr style=\"text-align: right;\">\n",
       "      <th></th>\n",
       "      <th>x1</th>\n",
       "      <th>x2</th>\n",
       "      <th>x3</th>\n",
       "      <th>x4</th>\n",
       "      <th>type</th>\n",
       "    </tr>\n",
       "  </thead>\n",
       "  <tbody>\n",
       "    <tr>\n",
       "      <th>0</th>\n",
       "      <td>-0.220512</td>\n",
       "      <td>0.533724</td>\n",
       "      <td>0.380598</td>\n",
       "      <td>-0.084148</td>\n",
       "      <td>1</td>\n",
       "    </tr>\n",
       "    <tr>\n",
       "      <th>1</th>\n",
       "      <td>0.990443</td>\n",
       "      <td>1.321994</td>\n",
       "      <td>-1.662020</td>\n",
       "      <td>-0.133913</td>\n",
       "      <td>1</td>\n",
       "    </tr>\n",
       "    <tr>\n",
       "      <th>2</th>\n",
       "      <td>0.955033</td>\n",
       "      <td>-1.024762</td>\n",
       "      <td>1.408427</td>\n",
       "      <td>-0.535897</td>\n",
       "      <td>1</td>\n",
       "    </tr>\n",
       "    <tr>\n",
       "      <th>3</th>\n",
       "      <td>0.778725</td>\n",
       "      <td>-2.395575</td>\n",
       "      <td>-0.379370</td>\n",
       "      <td>0.652017</td>\n",
       "      <td>1</td>\n",
       "    </tr>\n",
       "    <tr>\n",
       "      <th>4</th>\n",
       "      <td>-0.834488</td>\n",
       "      <td>-1.329976</td>\n",
       "      <td>-0.176095</td>\n",
       "      <td>-1.888499</td>\n",
       "      <td>1</td>\n",
       "    </tr>\n",
       "  </tbody>\n",
       "</table>\n",
       "</div>"
      ],
      "text/plain": [
       "         x1        x2        x3        x4  type\n",
       "0 -0.220512  0.533724  0.380598 -0.084148     1\n",
       "1  0.990443  1.321994 -1.662020 -0.133913     1\n",
       "2  0.955033 -1.024762  1.408427 -0.535897     1\n",
       "3  0.778725 -2.395575 -0.379370  0.652017     1\n",
       "4 -0.834488 -1.329976 -0.176095 -1.888499     1"
      ]
     },
     "execution_count": 92,
     "metadata": {},
     "output_type": "execute_result"
    }
   ],
   "source": [
    "df1.head()"
   ]
  },
  {
   "cell_type": "code",
   "execution_count": 93,
   "metadata": {},
   "outputs": [
    {
     "data": {
      "text/html": [
       "<div>\n",
       "<style>\n",
       "    .dataframe thead tr:only-child th {\n",
       "        text-align: right;\n",
       "    }\n",
       "\n",
       "    .dataframe thead th {\n",
       "        text-align: left;\n",
       "    }\n",
       "\n",
       "    .dataframe tbody tr th {\n",
       "        vertical-align: top;\n",
       "    }\n",
       "</style>\n",
       "<table border=\"1\" class=\"dataframe\">\n",
       "  <thead>\n",
       "    <tr style=\"text-align: right;\">\n",
       "      <th></th>\n",
       "      <th>x1</th>\n",
       "      <th>x2</th>\n",
       "      <th>x3</th>\n",
       "      <th>x4</th>\n",
       "      <th>type</th>\n",
       "    </tr>\n",
       "  </thead>\n",
       "  <tbody>\n",
       "    <tr>\n",
       "      <th>995</th>\n",
       "      <td>5.046438</td>\n",
       "      <td>5.000984</td>\n",
       "      <td>4.099641</td>\n",
       "      <td>5.934435</td>\n",
       "      <td>0</td>\n",
       "    </tr>\n",
       "    <tr>\n",
       "      <th>996</th>\n",
       "      <td>4.404533</td>\n",
       "      <td>4.590395</td>\n",
       "      <td>3.954420</td>\n",
       "      <td>5.978314</td>\n",
       "      <td>0</td>\n",
       "    </tr>\n",
       "    <tr>\n",
       "      <th>997</th>\n",
       "      <td>5.209249</td>\n",
       "      <td>4.149489</td>\n",
       "      <td>3.298629</td>\n",
       "      <td>6.717517</td>\n",
       "      <td>0</td>\n",
       "    </tr>\n",
       "    <tr>\n",
       "      <th>998</th>\n",
       "      <td>3.923939</td>\n",
       "      <td>4.096725</td>\n",
       "      <td>5.030801</td>\n",
       "      <td>5.266761</td>\n",
       "      <td>0</td>\n",
       "    </tr>\n",
       "    <tr>\n",
       "      <th>999</th>\n",
       "      <td>3.709500</td>\n",
       "      <td>6.683073</td>\n",
       "      <td>5.020636</td>\n",
       "      <td>6.444376</td>\n",
       "      <td>0</td>\n",
       "    </tr>\n",
       "  </tbody>\n",
       "</table>\n",
       "</div>"
      ],
      "text/plain": [
       "           x1        x2        x3        x4  type\n",
       "995  5.046438  5.000984  4.099641  5.934435     0\n",
       "996  4.404533  4.590395  3.954420  5.978314     0\n",
       "997  5.209249  4.149489  3.298629  6.717517     0\n",
       "998  3.923939  4.096725  5.030801  5.266761     0\n",
       "999  3.709500  6.683073  5.020636  6.444376     0"
      ]
     },
     "execution_count": 93,
     "metadata": {},
     "output_type": "execute_result"
    }
   ],
   "source": [
    "df1.tail()"
   ]
  },
  {
   "cell_type": "code",
   "execution_count": null,
   "metadata": {
    "collapsed": true
   },
   "outputs": [],
   "source": []
  },
  {
   "cell_type": "code",
   "execution_count": 95,
   "metadata": {},
   "outputs": [
    {
     "data": {
      "image/png": "[encoded data removed]",
      "text/plain": [
       "<matplotlib.figure.Figure at 0x21a3f5cf470>"
      ]
     },
     "metadata": {},
     "output_type": "display_data"
    }
   ],
   "source": [
    "plt.scatter(df1['x1'],df1['x2'])\n",
    "plt.show()"
   ]
  },
  {
   "cell_type": "code",
   "execution_count": 113,
   "metadata": {},
   "outputs": [
    {
     "data": {
      "image/png": "[encoded data removed]",
      "text/plain": [
       "<matplotlib.figure.Figure at 0x21a3f2bcba8>"
      ]
     },
     "metadata": {},
     "output_type": "display_data"
    }
   ],
   "source": [
    "plt.scatter(df5['x1'],df5['x2'])\n",
    "plt.show()"
   ]
  },
  {
   "cell_type": "code",
   "execution_count": 99,
   "metadata": {},
   "outputs": [
    {
     "data": {
      "image/png": "[encoded data removed]",
      "text/plain": [
       "<matplotlib.figure.Figure at 0x21a3f3102b0>"
      ]
     },
     "metadata": {},
     "output_type": "display_data"
    }
   ],
   "source": [
    "fig = plt.figure()\n",
    "ax = fig.add_subplot(111, projection='3d')\n",
    "\n",
    "ax.scatter(df1['x1'], df1['x2'], df1['x3'])\n",
    "\n",
    "ax.set_xlabel('X Label')\n",
    "ax.set_ylabel('Y Label')\n",
    "ax.set_zlabel('Z Label')\n",
    "\n",
    "plt.show()"
   ]
  },
  {
   "cell_type": "markdown",
   "metadata": {},
   "source": [
    "## Linear Discriminant Analaysis, Logistic regression, QDA, Naive Bayes 사용해보기"
   ]
  },
  {
   "cell_type": "markdown",
   "metadata": {},
   "source": [
    "**Logistic Regression** sigmoid와 같은 함수를 통해 y값의 범위를 [0,1] 또는 [-1, 1]과 같이 converge하여 값이 어느쪽에 가까운지에 따라 분류함.\n",
    "**Linear Discriminant Analaysis** Well Separable한 경우 log(p/1-p)가 error가 나기 때문에 Logistic Regression을 적용하는 게 좋지 않을때. 각 클래스의 분포가 sigma가 일정한 정규분포를 따른다는 가정. Discriminant Score을 계산하여 Relative Probability 계산.\n",
    "**Quadratic Discriminant Analasis** 정규분포를 따른다는 가정은 LDA와 같지만, sigma가 클래스마다 다른 일반적인 경우, Discriminant Score에서 x^2 term이 남게된다.\n",
    "**Naive Bayes** LDA의 가정에서 class별로 각각의 feature들이 독립인 경우. "
   ]
  },
  {
   "cell_type": "code",
   "execution_count": 124,
   "metadata": {},
   "outputs": [],
   "source": [
    "#각 모델, df, dim에 따라 동작하는 함수 만들기.\n",
    "def test_model(model, df, dim):\n",
    "    X=df[['x'+ str(i) for i in range(1, dim+1)]]\n",
    "    y=df.type\n",
    "    X_train, X_test, y_train, y_test = train_test_split(X, y, test_size=0.3, random_state = 42)\n",
    "    model.fit(X_train, y_train)\n",
    "    y_pred = model.predict(X_test)\n",
    "    print('confusion matrix: {}'.format(confusion_matrix(y_pred, y_test)))\n",
    "    print('precision score: {}'.format(precision_score(y_pred, y_test)))\n",
    "    print('cross validation score: {}'.format(cross_val_score(model, X_train, y_train, cv=5)))\n",
    "    "
   ]
  },
  {
   "cell_type": "code",
   "execution_count": 125,
   "metadata": {},
   "outputs": [
    {
     "name": "stdout",
     "output_type": "stream",
     "text": [
      "confusion matrix: [[298   0]\n",
      " [  0 302]]\n",
      "precision score: 1.0\n",
      "cross validation score: [ 1.  1.  1.  1.  1.]\n"
     ]
    }
   ],
   "source": [
    "result1 = test_model(LinearDiscriminantAnalysis(),df1,2)"
   ]
  },
  {
   "cell_type": "code",
   "execution_count": 127,
   "metadata": {},
   "outputs": [
    {
     "name": "stdout",
     "output_type": "stream",
     "text": [
      "confusion matrix: [[233  67]\n",
      " [ 65 235]]\n",
      "precision score: 0.7781456953642384\n",
      "cross validation score: [ 0.82206406  0.80071174  0.82857143  0.78853047  0.78853047]\n"
     ]
    }
   ],
   "source": [
    "result2 = test_model(LinearDiscriminantAnalysis(), df5, 3)"
   ]
  },
  {
   "cell_type": "code",
   "execution_count": 126,
   "metadata": {},
   "outputs": [
    {
     "name": "stdout",
     "output_type": "stream",
     "text": [
      "confusion matrix: [[243  46]\n",
      " [ 55 256]]\n",
      "precision score: 0.847682119205298\n",
      "cross validation score: [ 0.83629893  0.83985765  0.83928571  0.83870968  0.83154122]\n"
     ]
    }
   ],
   "source": [
    "result3 = test_model(QuadraticDiscriminantAnalysis(), df5, 4)"
   ]
  },
  {
   "cell_type": "code",
   "execution_count": 119,
   "metadata": {},
   "outputs": [
    {
     "name": "stdout",
     "output_type": "stream",
     "text": [
      "confusion matrix: [[244  49]\n",
      " [ 54 253]]\n",
      "precision score: 0.8377483443708609\n"
     ]
    }
   ],
   "source": [
    "result3 = test_model(GaussianNB(), df5, 4)"
   ]
  },
  {
   "cell_type": "code",
   "execution_count": 123,
   "metadata": {},
   "outputs": [
    {
     "data": {
      "text/plain": [
       "array([ 1.,  1.,  1.,  1.,  1.])"
      ]
     },
     "execution_count": 123,
     "metadata": {},
     "output_type": "execute_result"
    }
   ],
   "source": [
    "cross_val_score(QuadraticDiscriminantAnalysis(), X_train, y_train, cv=5)"
   ]
  },
  {
   "cell_type": "code",
   "execution_count": null,
   "metadata": {
    "collapsed": true
   },
   "outputs": [],
   "source": [
    "cross_val_score(QuadraticDiscriminantAnalysis(), X_train, y_train, cv=5)"
   ]
  },
  {
   "cell_type": "code",
   "execution_count": 132,
   "metadata": {},
   "outputs": [
    {
     "name": "stdout",
     "output_type": "stream",
     "text": [
      "confusion matrix: [[298   0]\n",
      " [  0 302]]\n",
      "precision score: 1.0\n",
      "cross validation score: [ 1.  1.  1.  1.  1.]\n"
     ]
    }
   ],
   "source": [
    "result3 = test_model(LogisticRegression(), df1, 3)"
   ]
  },
  {
   "cell_type": "code",
   "execution_count": null,
   "metadata": {
    "collapsed": true
   },
   "outputs": [],
   "source": []
  }
 ],
 "metadata": {
  "kernelspec": {
   "display_name": "Python 3",
   "language": "python",
   "name": "python3"
  },
  "language_info": {
   "codemirror_mode": {
    "name": "ipython",
    "version": 3
   },
   "file_extension": ".py",
   "mimetype": "text/x-python",
   "name": "python",
   "nbconvert_exporter": "python",
   "pygments_lexer": "ipython3",
   "version": "3.6.3"
  }
 },
 "nbformat": 4,
 "nbformat_minor": 2
}
